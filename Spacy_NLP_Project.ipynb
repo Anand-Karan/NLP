{
 "cells": [
  {
   "cell_type": "code",
   "execution_count": 2,
   "id": "18684200",
   "metadata": {},
   "outputs": [],
   "source": [
    "import pandas as pd\n",
    "import numpy as np"
   ]
  },
  {
   "cell_type": "code",
   "execution_count": 3,
   "id": "f7b79a28",
   "metadata": {},
   "outputs": [
    {
     "data": {
      "text/html": [
       "<div>\n",
       "<style scoped>\n",
       "    .dataframe tbody tr th:only-of-type {\n",
       "        vertical-align: middle;\n",
       "    }\n",
       "\n",
       "    .dataframe tbody tr th {\n",
       "        vertical-align: top;\n",
       "    }\n",
       "\n",
       "    .dataframe thead th {\n",
       "        text-align: right;\n",
       "    }\n",
       "</style>\n",
       "<table border=\"1\" class=\"dataframe\">\n",
       "  <thead>\n",
       "    <tr style=\"text-align: right;\">\n",
       "      <th></th>\n",
       "      <th>text</th>\n",
       "      <th>category</th>\n",
       "    </tr>\n",
       "  </thead>\n",
       "  <tbody>\n",
       "    <tr>\n",
       "      <th>0</th>\n",
       "      <td>Watching Schrödinger's Cat Die University of C...</td>\n",
       "      <td>SCIENCE</td>\n",
       "    </tr>\n",
       "    <tr>\n",
       "      <th>1</th>\n",
       "      <td>WATCH: Freaky Vortex Opens Up In Flooded Lake</td>\n",
       "      <td>SCIENCE</td>\n",
       "    </tr>\n",
       "    <tr>\n",
       "      <th>2</th>\n",
       "      <td>Entrepreneurs Today Don't Need a Big Budget to...</td>\n",
       "      <td>BUSINESS</td>\n",
       "    </tr>\n",
       "    <tr>\n",
       "      <th>3</th>\n",
       "      <td>These Roads Could Recharge Your Electric Car A...</td>\n",
       "      <td>BUSINESS</td>\n",
       "    </tr>\n",
       "    <tr>\n",
       "      <th>4</th>\n",
       "      <td>Civilian 'Guard' Fires Gun While 'Protecting' ...</td>\n",
       "      <td>CRIME</td>\n",
       "    </tr>\n",
       "  </tbody>\n",
       "</table>\n",
       "</div>"
      ],
      "text/plain": [
       "                                                text  category\n",
       "0  Watching Schrödinger's Cat Die University of C...   SCIENCE\n",
       "1     WATCH: Freaky Vortex Opens Up In Flooded Lake    SCIENCE\n",
       "2  Entrepreneurs Today Don't Need a Big Budget to...  BUSINESS\n",
       "3  These Roads Could Recharge Your Electric Car A...  BUSINESS\n",
       "4  Civilian 'Guard' Fires Gun While 'Protecting' ...     CRIME"
      ]
     },
     "execution_count": 3,
     "metadata": {},
     "output_type": "execute_result"
    }
   ],
   "source": [
    "df = pd.read_json('news_dataset.json')\n",
    "df.head()\n"
   ]
  },
  {
   "cell_type": "code",
   "execution_count": 4,
   "id": "643e41c0",
   "metadata": {},
   "outputs": [
    {
     "name": "stdout",
     "output_type": "stream",
     "text": [
      "(12695, 2)\n",
      "BUSINESS    4254\n",
      "SPORTS      4167\n",
      "CRIME       2893\n",
      "SCIENCE     1381\n",
      "Name: category, dtype: int64\n"
     ]
    }
   ],
   "source": [
    "print(df.shape)\n",
    "\n",
    "print(df.category.value_counts())"
   ]
  },
  {
   "cell_type": "code",
   "execution_count": 5,
   "id": "0a3b2a4e",
   "metadata": {},
   "outputs": [
    {
     "data": {
      "text/plain": [
       "SPORTS      1381\n",
       "SCIENCE     1381\n",
       "BUSINESS    1381\n",
       "CRIME       1381\n",
       "Name: category, dtype: int64"
      ]
     },
     "execution_count": 5,
     "metadata": {},
     "output_type": "execute_result"
    }
   ],
   "source": [
    "## Downsampling the data\n",
    "\n",
    "df_bus = df[df['category'] == 'BUSINESS'].sample(1381)\n",
    "df_sports = df[df['category'] == 'SPORTS'].sample(1381)\n",
    "df_crime = df[df['category'] == 'CRIME'].sample(1381)\n",
    "df_science = df[df['category'] == 'SCIENCE'].sample(1381)\n",
    "\n",
    "df_new = pd.concat([df_bus,df_sports,df_crime,df_science])\n",
    "\n",
    "df_new.category.value_counts()\n",
    "\n"
   ]
  },
  {
   "cell_type": "code",
   "execution_count": 7,
   "id": "b548b52c",
   "metadata": {},
   "outputs": [
    {
     "data": {
      "text/html": [
       "<div>\n",
       "<style scoped>\n",
       "    .dataframe tbody tr th:only-of-type {\n",
       "        vertical-align: middle;\n",
       "    }\n",
       "\n",
       "    .dataframe tbody tr th {\n",
       "        vertical-align: top;\n",
       "    }\n",
       "\n",
       "    .dataframe thead th {\n",
       "        text-align: right;\n",
       "    }\n",
       "</style>\n",
       "<table border=\"1\" class=\"dataframe\">\n",
       "  <thead>\n",
       "    <tr style=\"text-align: right;\">\n",
       "      <th></th>\n",
       "      <th>text</th>\n",
       "      <th>category</th>\n",
       "      <th>prep_text</th>\n",
       "    </tr>\n",
       "  </thead>\n",
       "  <tbody>\n",
       "    <tr>\n",
       "      <th>3066</th>\n",
       "      <td>10 Ways to Spot a Truly Exceptional Employee D...</td>\n",
       "      <td>BUSINESS</td>\n",
       "      <td>10 way spot Truly Exceptional employee deal di...</td>\n",
       "    </tr>\n",
       "    <tr>\n",
       "      <th>5342</th>\n",
       "      <td>Trump Even Found A Way To Make His Charity Eff...</td>\n",
       "      <td>BUSINESS</td>\n",
       "      <td>Trump find way charity Efforts bad far generou...</td>\n",
       "    </tr>\n",
       "    <tr>\n",
       "      <th>10258</th>\n",
       "      <td>What Type Of Pot Smoker Are You?</td>\n",
       "      <td>BUSINESS</td>\n",
       "      <td>type Pot Smoker</td>\n",
       "    </tr>\n",
       "    <tr>\n",
       "      <th>7167</th>\n",
       "      <td>Coloring Outside the Lines I had dinner with m...</td>\n",
       "      <td>BUSINESS</td>\n",
       "      <td>color outside line dinner brother family day r...</td>\n",
       "    </tr>\n",
       "    <tr>\n",
       "      <th>3771</th>\n",
       "      <td>Tesla's Self-Driving Feature Has Regulators Sc...</td>\n",
       "      <td>BUSINESS</td>\n",
       "      <td>Tesla self drive feature regulator scramble</td>\n",
       "    </tr>\n",
       "  </tbody>\n",
       "</table>\n",
       "</div>"
      ],
      "text/plain": [
       "                                                    text  category  \\\n",
       "3066   10 Ways to Spot a Truly Exceptional Employee D...  BUSINESS   \n",
       "5342   Trump Even Found A Way To Make His Charity Eff...  BUSINESS   \n",
       "10258                  What Type Of Pot Smoker Are You?   BUSINESS   \n",
       "7167   Coloring Outside the Lines I had dinner with m...  BUSINESS   \n",
       "3771   Tesla's Self-Driving Feature Has Regulators Sc...  BUSINESS   \n",
       "\n",
       "                                               prep_text  \n",
       "3066   10 way spot Truly Exceptional employee deal di...  \n",
       "5342   Trump find way charity Efforts bad far generou...  \n",
       "10258                                    type Pot Smoker  \n",
       "7167   color outside line dinner brother family day r...  \n",
       "3771         Tesla self drive feature regulator scramble  "
      ]
     },
     "execution_count": 7,
     "metadata": {},
     "output_type": "execute_result"
    }
   ],
   "source": [
    "import spacy\n",
    "nlp = spacy.load('en_core_web_lg')\n",
    "\n",
    "## Creating a function to preprocess the data/text\n",
    "def text_prep(text):\n",
    "    doc = nlp(text)\n",
    "    filtered_token = []\n",
    "    for token in doc:\n",
    "        if not token.is_stop | token.is_punct:\n",
    "            filtered_token.append(token.lemma_)\n",
    "    return ' '.join(filtered_token)\n",
    "\n",
    "\n",
    "\n",
    "df_new['prep_text'] = df_new['text'].apply(text_prep)\n",
    "\n",
    "df_new.head()\n"
   ]
  },
  {
   "cell_type": "code",
   "execution_count": 8,
   "id": "d49dff79",
   "metadata": {},
   "outputs": [
    {
     "data": {
      "text/html": [
       "<div>\n",
       "<style scoped>\n",
       "    .dataframe tbody tr th:only-of-type {\n",
       "        vertical-align: middle;\n",
       "    }\n",
       "\n",
       "    .dataframe tbody tr th {\n",
       "        vertical-align: top;\n",
       "    }\n",
       "\n",
       "    .dataframe thead th {\n",
       "        text-align: right;\n",
       "    }\n",
       "</style>\n",
       "<table border=\"1\" class=\"dataframe\">\n",
       "  <thead>\n",
       "    <tr style=\"text-align: right;\">\n",
       "      <th></th>\n",
       "      <th>text</th>\n",
       "      <th>category</th>\n",
       "      <th>prep_text</th>\n",
       "      <th>vectors</th>\n",
       "      <th>cat_num</th>\n",
       "    </tr>\n",
       "  </thead>\n",
       "  <tbody>\n",
       "    <tr>\n",
       "      <th>2014</th>\n",
       "      <td>Teaching Robots To Be Moral</td>\n",
       "      <td>SCIENCE</td>\n",
       "      <td>teach robot moral</td>\n",
       "      <td>[-0.1611783, 1.31393, -1.1785634, -0.92167664,...</td>\n",
       "      <td>1</td>\n",
       "    </tr>\n",
       "    <tr>\n",
       "      <th>7082</th>\n",
       "      <td>Scientists May One Day Treat Schizophrenia By ...</td>\n",
       "      <td>SCIENCE</td>\n",
       "      <td>scientist day treat Schizophrenia target Brain...</td>\n",
       "      <td>[0.21183836, 1.3618196, -1.0549275, -0.5254693...</td>\n",
       "      <td>1</td>\n",
       "    </tr>\n",
       "    <tr>\n",
       "      <th>6571</th>\n",
       "      <td>Here's Where To Marvel At The 'Blood Moon'</td>\n",
       "      <td>SCIENCE</td>\n",
       "      <td>Marvel Blood Moon</td>\n",
       "      <td>[-1.3075166, 0.5978, 0.10414664, 0.07786667, 1...</td>\n",
       "      <td>1</td>\n",
       "    </tr>\n",
       "    <tr>\n",
       "      <th>9849</th>\n",
       "      <td>Homo Naledi may be Two Million Years Old (Give...</td>\n",
       "      <td>SCIENCE</td>\n",
       "      <td>Homo Naledi million year Old global interest a...</td>\n",
       "      <td>[-0.41448265, -0.65241593, 1.6636497, -1.30620...</td>\n",
       "      <td>1</td>\n",
       "    </tr>\n",
       "    <tr>\n",
       "      <th>4127</th>\n",
       "      <td>Kalevi Kull: Censorship &amp; Royal Society Evo Ev...</td>\n",
       "      <td>SCIENCE</td>\n",
       "      <td>Kalevi Kull Censorship Royal Society Evo Event</td>\n",
       "      <td>[-1.3300171, -1.3360201, 1.6599042, 1.0000185,...</td>\n",
       "      <td>1</td>\n",
       "    </tr>\n",
       "  </tbody>\n",
       "</table>\n",
       "</div>"
      ],
      "text/plain": [
       "                                                   text category  \\\n",
       "2014                       Teaching Robots To Be Moral   SCIENCE   \n",
       "7082  Scientists May One Day Treat Schizophrenia By ...  SCIENCE   \n",
       "6571        Here's Where To Marvel At The 'Blood Moon'   SCIENCE   \n",
       "9849  Homo Naledi may be Two Million Years Old (Give...  SCIENCE   \n",
       "4127  Kalevi Kull: Censorship & Royal Society Evo Ev...  SCIENCE   \n",
       "\n",
       "                                              prep_text  \\\n",
       "2014                                  teach robot moral   \n",
       "7082  scientist day treat Schizophrenia target Brain...   \n",
       "6571                                  Marvel Blood Moon   \n",
       "9849  Homo Naledi million year Old global interest a...   \n",
       "4127     Kalevi Kull Censorship Royal Society Evo Event   \n",
       "\n",
       "                                                vectors  cat_num  \n",
       "2014  [-0.1611783, 1.31393, -1.1785634, -0.92167664,...        1  \n",
       "7082  [0.21183836, 1.3618196, -1.0549275, -0.5254693...        1  \n",
       "6571  [-1.3075166, 0.5978, 0.10414664, 0.07786667, 1...        1  \n",
       "9849  [-0.41448265, -0.65241593, 1.6636497, -1.30620...        1  \n",
       "4127  [-1.3300171, -1.3360201, 1.6599042, 1.0000185,...        1  "
      ]
     },
     "execution_count": 8,
     "metadata": {},
     "output_type": "execute_result"
    }
   ],
   "source": [
    "#Creating vectors from Spacy for the prep_text column\n",
    "\n",
    "df_new['vectors'] = df_new['prep_text'].apply(lambda x: nlp(x).vector)\n",
    "\n",
    "labels = {'BUSINESS':0, 'SCIENCE':1,'SPORTS':2,'CRIME':3}\n",
    "\n",
    "df_new['cat_num'] = df_new['category'].map(labels)\n",
    "\n",
    "df_new.tail()"
   ]
  },
  {
   "cell_type": "code",
   "execution_count": 11,
   "id": "230c6084",
   "metadata": {},
   "outputs": [
    {
     "ename": "NameError",
     "evalue": "name 'MinMaxScaler' is not defined",
     "output_type": "error",
     "traceback": [
      "\u001b[0;31m---------------------------------------------------------------------------\u001b[0m",
      "\u001b[0;31mNameError\u001b[0m                                 Traceback (most recent call last)",
      "\u001b[0;32m<ipython-input-11-3fd89493f99c>\u001b[0m in \u001b[0;36m<module>\u001b[0;34m\u001b[0m\n\u001b[1;32m     10\u001b[0m \u001b[0mX_test_2D\u001b[0m \u001b[0;34m=\u001b[0m \u001b[0mnp\u001b[0m\u001b[0;34m.\u001b[0m\u001b[0mstack\u001b[0m\u001b[0;34m(\u001b[0m\u001b[0mX_test\u001b[0m\u001b[0;34m)\u001b[0m\u001b[0;34m\u001b[0m\u001b[0;34m\u001b[0m\u001b[0m\n\u001b[1;32m     11\u001b[0m \u001b[0;34m\u001b[0m\u001b[0m\n\u001b[0;32m---> 12\u001b[0;31m \u001b[0mscaler\u001b[0m \u001b[0;34m=\u001b[0m \u001b[0mMinMaxScaler\u001b[0m\u001b[0;34m(\u001b[0m\u001b[0;34m)\u001b[0m\u001b[0;34m\u001b[0m\u001b[0;34m\u001b[0m\u001b[0m\n\u001b[0m\u001b[1;32m     13\u001b[0m \u001b[0mX_train_scaled\u001b[0m \u001b[0;34m=\u001b[0m \u001b[0mscaler\u001b[0m\u001b[0;34m.\u001b[0m\u001b[0mfit_transform\u001b[0m\u001b[0;34m(\u001b[0m\u001b[0mX_train_2D\u001b[0m\u001b[0;34m)\u001b[0m\u001b[0;34m\u001b[0m\u001b[0;34m\u001b[0m\u001b[0m\n\u001b[1;32m     14\u001b[0m \u001b[0mX_test_scaled\u001b[0m \u001b[0;34m=\u001b[0m \u001b[0mscaler\u001b[0m\u001b[0;34m.\u001b[0m\u001b[0mtransform\u001b[0m\u001b[0;34m(\u001b[0m\u001b[0mX_test_2D\u001b[0m\u001b[0;34m)\u001b[0m\u001b[0;34m\u001b[0m\u001b[0;34m\u001b[0m\u001b[0m\n",
      "\u001b[0;31mNameError\u001b[0m: name 'MinMaxScaler' is not defined"
     ]
    }
   ],
   "source": [
    "from sklearn.model_selection import train_test_split\n",
    "\n",
    "X_train,X_test,y_train,y_test = train_test_split(df_new.vectors.values,\n",
    "                                                df_new.cat_num,\n",
    "                                                test_size = 0.2,\n",
    "                                                random_state=101,\n",
    "                                                stratify=df_new.cat_num)\n",
    "\n",
    "X_train_2D = np.stack(X_train)\n",
    "X_test_2D = np.stack(X_test)\n",
    "\n",
    "scaler = MinMaxScaler()\n",
    "X_train_scaled = scaler.fit_transform(X_train_2D)\n",
    "X_test_scaled = scaler.transform(X_test_2D)"
   ]
  },
  {
   "cell_type": "code",
   "execution_count": null,
   "id": "376e6172",
   "metadata": {},
   "outputs": [],
   "source": [
    "from sklearn.tree import DecisionTreeClassifier\n",
    "\n",
    "clf = DecisionTreeClassifier()\n",
    "clf.fit(X_train_scaled,y_train)\n",
    "\n",
    "y_pred = clf.predict(X_test_scaled)\n",
    "\n",
    "print(classification_report(y_test,y_pred))\n"
   ]
  },
  {
   "cell_type": "code",
   "execution_count": null,
   "id": "65c928bc",
   "metadata": {},
   "outputs": [],
   "source": [
    "from sklearn.naive_bayes import MultinomialNB\n",
    "\n",
    "clf = MultinomialNB()\n",
    "clf.fit(X_train_scaled,y_train)\n",
    "\n",
    "y_pred = clf.predict(X_test_scaled)\n",
    "\n",
    "print(classification_report(y_test,y_pred))"
   ]
  },
  {
   "cell_type": "code",
   "execution_count": null,
   "id": "0d710770",
   "metadata": {},
   "outputs": [],
   "source": []
  },
  {
   "cell_type": "code",
   "execution_count": null,
   "id": "e5ef22a9",
   "metadata": {},
   "outputs": [],
   "source": []
  }
 ],
 "metadata": {
  "kernelspec": {
   "display_name": "Python 3",
   "language": "python",
   "name": "python3"
  },
  "language_info": {
   "codemirror_mode": {
    "name": "ipython",
    "version": 3
   },
   "file_extension": ".py",
   "mimetype": "text/x-python",
   "name": "python",
   "nbconvert_exporter": "python",
   "pygments_lexer": "ipython3",
   "version": "3.8.8"
  }
 },
 "nbformat": 4,
 "nbformat_minor": 5
}
