{
 "cells": [
  {
   "cell_type": "code",
   "execution_count": 2,
   "id": "f482f78f",
   "metadata": {},
   "outputs": [],
   "source": [
    "import pandas as pd\n",
    "import numpy as np"
   ]
  },
  {
   "cell_type": "code",
   "execution_count": 3,
   "id": "e407f314",
   "metadata": {},
   "outputs": [
    {
     "data": {
      "text/html": [
       "<div>\n",
       "<style scoped>\n",
       "    .dataframe tbody tr th:only-of-type {\n",
       "        vertical-align: middle;\n",
       "    }\n",
       "\n",
       "    .dataframe tbody tr th {\n",
       "        vertical-align: top;\n",
       "    }\n",
       "\n",
       "    .dataframe thead th {\n",
       "        text-align: right;\n",
       "    }\n",
       "</style>\n",
       "<table border=\"1\" class=\"dataframe\">\n",
       "  <thead>\n",
       "    <tr style=\"text-align: right;\">\n",
       "      <th></th>\n",
       "      <th>text</th>\n",
       "      <th>category</th>\n",
       "    </tr>\n",
       "  </thead>\n",
       "  <tbody>\n",
       "    <tr>\n",
       "      <th>0</th>\n",
       "      <td>Watching Schrödinger's Cat Die University of C...</td>\n",
       "      <td>SCIENCE</td>\n",
       "    </tr>\n",
       "    <tr>\n",
       "      <th>1</th>\n",
       "      <td>WATCH: Freaky Vortex Opens Up In Flooded Lake</td>\n",
       "      <td>SCIENCE</td>\n",
       "    </tr>\n",
       "    <tr>\n",
       "      <th>2</th>\n",
       "      <td>Entrepreneurs Today Don't Need a Big Budget to...</td>\n",
       "      <td>BUSINESS</td>\n",
       "    </tr>\n",
       "    <tr>\n",
       "      <th>3</th>\n",
       "      <td>These Roads Could Recharge Your Electric Car A...</td>\n",
       "      <td>BUSINESS</td>\n",
       "    </tr>\n",
       "    <tr>\n",
       "      <th>4</th>\n",
       "      <td>Civilian 'Guard' Fires Gun While 'Protecting' ...</td>\n",
       "      <td>CRIME</td>\n",
       "    </tr>\n",
       "  </tbody>\n",
       "</table>\n",
       "</div>"
      ],
      "text/plain": [
       "                                                text  category\n",
       "0  Watching Schrödinger's Cat Die University of C...   SCIENCE\n",
       "1     WATCH: Freaky Vortex Opens Up In Flooded Lake    SCIENCE\n",
       "2  Entrepreneurs Today Don't Need a Big Budget to...  BUSINESS\n",
       "3  These Roads Could Recharge Your Electric Car A...  BUSINESS\n",
       "4  Civilian 'Guard' Fires Gun While 'Protecting' ...     CRIME"
      ]
     },
     "execution_count": 3,
     "metadata": {},
     "output_type": "execute_result"
    }
   ],
   "source": [
    "df = pd.read_json('news_dataset.json')\n",
    "df.head()\n"
   ]
  },
  {
   "cell_type": "code",
   "execution_count": 4,
   "id": "00cf8a36",
   "metadata": {},
   "outputs": [
    {
     "name": "stdout",
     "output_type": "stream",
     "text": [
      "(12695, 2)\n",
      "BUSINESS    4254\n",
      "SPORTS      4167\n",
      "CRIME       2893\n",
      "SCIENCE     1381\n",
      "Name: category, dtype: int64\n"
     ]
    }
   ],
   "source": [
    "print(df.shape)\n",
    "\n",
    "print(df.category.value_counts())"
   ]
  },
  {
   "cell_type": "code",
   "execution_count": 5,
   "id": "92ce0067",
   "metadata": {},
   "outputs": [
    {
     "data": {
      "text/plain": [
       "SPORTS      1381\n",
       "SCIENCE     1381\n",
       "BUSINESS    1381\n",
       "CRIME       1381\n",
       "Name: category, dtype: int64"
      ]
     },
     "execution_count": 5,
     "metadata": {},
     "output_type": "execute_result"
    }
   ],
   "source": [
    "## Downsampling the data\n",
    "\n",
    "df_bus = df[df['category'] == 'BUSINESS'].sample(1381)\n",
    "df_sports = df[df['category'] == 'SPORTS'].sample(1381)\n",
    "df_crime = df[df['category'] == 'CRIME'].sample(1381)\n",
    "df_science = df[df['category'] == 'SCIENCE'].sample(1381)\n",
    "\n",
    "df_new = pd.concat([df_bus,df_sports,df_crime,df_science])\n",
    "\n",
    "df_new.category.value_counts()\n",
    "\n"
   ]
  },
  {
   "cell_type": "code",
   "execution_count": 7,
   "id": "5660da54",
   "metadata": {},
   "outputs": [
    {
     "data": {
      "text/html": [
       "<div>\n",
       "<style scoped>\n",
       "    .dataframe tbody tr th:only-of-type {\n",
       "        vertical-align: middle;\n",
       "    }\n",
       "\n",
       "    .dataframe tbody tr th {\n",
       "        vertical-align: top;\n",
       "    }\n",
       "\n",
       "    .dataframe thead th {\n",
       "        text-align: right;\n",
       "    }\n",
       "</style>\n",
       "<table border=\"1\" class=\"dataframe\">\n",
       "  <thead>\n",
       "    <tr style=\"text-align: right;\">\n",
       "      <th></th>\n",
       "      <th>text</th>\n",
       "      <th>category</th>\n",
       "      <th>prep_text</th>\n",
       "    </tr>\n",
       "  </thead>\n",
       "  <tbody>\n",
       "    <tr>\n",
       "      <th>3066</th>\n",
       "      <td>10 Ways to Spot a Truly Exceptional Employee D...</td>\n",
       "      <td>BUSINESS</td>\n",
       "      <td>10 way spot Truly Exceptional employee deal di...</td>\n",
       "    </tr>\n",
       "    <tr>\n",
       "      <th>5342</th>\n",
       "      <td>Trump Even Found A Way To Make His Charity Eff...</td>\n",
       "      <td>BUSINESS</td>\n",
       "      <td>Trump find way charity Efforts bad far generou...</td>\n",
       "    </tr>\n",
       "    <tr>\n",
       "      <th>10258</th>\n",
       "      <td>What Type Of Pot Smoker Are You?</td>\n",
       "      <td>BUSINESS</td>\n",
       "      <td>type Pot Smoker</td>\n",
       "    </tr>\n",
       "    <tr>\n",
       "      <th>7167</th>\n",
       "      <td>Coloring Outside the Lines I had dinner with m...</td>\n",
       "      <td>BUSINESS</td>\n",
       "      <td>color outside line dinner brother family day r...</td>\n",
       "    </tr>\n",
       "    <tr>\n",
       "      <th>3771</th>\n",
       "      <td>Tesla's Self-Driving Feature Has Regulators Sc...</td>\n",
       "      <td>BUSINESS</td>\n",
       "      <td>Tesla self drive feature regulator scramble</td>\n",
       "    </tr>\n",
       "  </tbody>\n",
       "</table>\n",
       "</div>"
      ],
      "text/plain": [
       "                                                    text  category  \\\n",
       "3066   10 Ways to Spot a Truly Exceptional Employee D...  BUSINESS   \n",
       "5342   Trump Even Found A Way To Make His Charity Eff...  BUSINESS   \n",
       "10258                  What Type Of Pot Smoker Are You?   BUSINESS   \n",
       "7167   Coloring Outside the Lines I had dinner with m...  BUSINESS   \n",
       "3771   Tesla's Self-Driving Feature Has Regulators Sc...  BUSINESS   \n",
       "\n",
       "                                               prep_text  \n",
       "3066   10 way spot Truly Exceptional employee deal di...  \n",
       "5342   Trump find way charity Efforts bad far generou...  \n",
       "10258                                    type Pot Smoker  \n",
       "7167   color outside line dinner brother family day r...  \n",
       "3771         Tesla self drive feature regulator scramble  "
      ]
     },
     "execution_count": 7,
     "metadata": {},
     "output_type": "execute_result"
    }
   ],
   "source": [
    "import spacy\n",
    "nlp = spacy.load('en_core_web_lg')\n",
    "\n",
    "## Creating a function to preprocess the data/text\n",
    "def text_prep(text):\n",
    "    doc = nlp(text)\n",
    "    filtered_token = []\n",
    "    for token in doc:\n",
    "        if not token.is_stop | token.is_punct:\n",
    "            filtered_token.append(token.lemma_)\n",
    "    return ' '.join(filtered_token)\n",
    "\n",
    "\n",
    "\n",
    "df_new['prep_text'] = df_new['text'].apply(text_prep)\n",
    "\n",
    "df_new.head()\n"
   ]
  },
  {
   "cell_type": "code",
   "execution_count": 8,
   "id": "26fe5934",
   "metadata": {},
   "outputs": [
    {
     "data": {
      "text/html": [
       "<div>\n",
       "<style scoped>\n",
       "    .dataframe tbody tr th:only-of-type {\n",
       "        vertical-align: middle;\n",
       "    }\n",
       "\n",
       "    .dataframe tbody tr th {\n",
       "        vertical-align: top;\n",
       "    }\n",
       "\n",
       "    .dataframe thead th {\n",
       "        text-align: right;\n",
       "    }\n",
       "</style>\n",
       "<table border=\"1\" class=\"dataframe\">\n",
       "  <thead>\n",
       "    <tr style=\"text-align: right;\">\n",
       "      <th></th>\n",
       "      <th>text</th>\n",
       "      <th>category</th>\n",
       "      <th>prep_text</th>\n",
       "      <th>vectors</th>\n",
       "      <th>cat_num</th>\n",
       "    </tr>\n",
       "  </thead>\n",
       "  <tbody>\n",
       "    <tr>\n",
       "      <th>2014</th>\n",
       "      <td>Teaching Robots To Be Moral</td>\n",
       "      <td>SCIENCE</td>\n",
       "      <td>teach robot moral</td>\n",
       "      <td>[-0.1611783, 1.31393, -1.1785634, -0.92167664,...</td>\n",
       "      <td>1</td>\n",
       "    </tr>\n",
       "    <tr>\n",
       "      <th>7082</th>\n",
       "      <td>Scientists May One Day Treat Schizophrenia By ...</td>\n",
       "      <td>SCIENCE</td>\n",
       "      <td>scientist day treat Schizophrenia target Brain...</td>\n",
       "      <td>[0.21183836, 1.3618196, -1.0549275, -0.5254693...</td>\n",
       "      <td>1</td>\n",
       "    </tr>\n",
       "    <tr>\n",
       "      <th>6571</th>\n",
       "      <td>Here's Where To Marvel At The 'Blood Moon'</td>\n",
       "      <td>SCIENCE</td>\n",
       "      <td>Marvel Blood Moon</td>\n",
       "      <td>[-1.3075166, 0.5978, 0.10414664, 0.07786667, 1...</td>\n",
       "      <td>1</td>\n",
       "    </tr>\n",
       "    <tr>\n",
       "      <th>9849</th>\n",
       "      <td>Homo Naledi may be Two Million Years Old (Give...</td>\n",
       "      <td>SCIENCE</td>\n",
       "      <td>Homo Naledi million year Old global interest a...</td>\n",
       "      <td>[-0.41448265, -0.65241593, 1.6636497, -1.30620...</td>\n",
       "      <td>1</td>\n",
       "    </tr>\n",
       "    <tr>\n",
       "      <th>4127</th>\n",
       "      <td>Kalevi Kull: Censorship &amp; Royal Society Evo Ev...</td>\n",
       "      <td>SCIENCE</td>\n",
       "      <td>Kalevi Kull Censorship Royal Society Evo Event</td>\n",
       "      <td>[-1.3300171, -1.3360201, 1.6599042, 1.0000185,...</td>\n",
       "      <td>1</td>\n",
       "    </tr>\n",
       "  </tbody>\n",
       "</table>\n",
       "</div>"
      ],
      "text/plain": [
       "                                                   text category  \\\n",
       "2014                       Teaching Robots To Be Moral   SCIENCE   \n",
       "7082  Scientists May One Day Treat Schizophrenia By ...  SCIENCE   \n",
       "6571        Here's Where To Marvel At The 'Blood Moon'   SCIENCE   \n",
       "9849  Homo Naledi may be Two Million Years Old (Give...  SCIENCE   \n",
       "4127  Kalevi Kull: Censorship & Royal Society Evo Ev...  SCIENCE   \n",
       "\n",
       "                                              prep_text  \\\n",
       "2014                                  teach robot moral   \n",
       "7082  scientist day treat Schizophrenia target Brain...   \n",
       "6571                                  Marvel Blood Moon   \n",
       "9849  Homo Naledi million year Old global interest a...   \n",
       "4127     Kalevi Kull Censorship Royal Society Evo Event   \n",
       "\n",
       "                                                vectors  cat_num  \n",
       "2014  [-0.1611783, 1.31393, -1.1785634, -0.92167664,...        1  \n",
       "7082  [0.21183836, 1.3618196, -1.0549275, -0.5254693...        1  \n",
       "6571  [-1.3075166, 0.5978, 0.10414664, 0.07786667, 1...        1  \n",
       "9849  [-0.41448265, -0.65241593, 1.6636497, -1.30620...        1  \n",
       "4127  [-1.3300171, -1.3360201, 1.6599042, 1.0000185,...        1  "
      ]
     },
     "execution_count": 8,
     "metadata": {},
     "output_type": "execute_result"
    }
   ],
   "source": [
    "#Creating vectors from Spacy for the prep_text column\n",
    "\n",
    "df_new['vectors'] = df_new['prep_text'].apply(lambda x: nlp(x).vector)\n",
    "\n",
    "labels = {'BUSINESS':0, 'SCIENCE':1,'SPORTS':2,'CRIME':3}\n",
    "\n",
    "df_new['cat_num'] = df_new['category'].map(labels)\n",
    "\n",
    "df_new.tail()"
   ]
  },
  {
   "cell_type": "code",
   "execution_count": 12,
   "id": "3fde6508",
   "metadata": {},
   "outputs": [],
   "source": [
    "from sklearn.model_selection import train_test_split\n",
    "from sklearn.preprocessing import MinMaxScaler\n",
    "\n",
    "X_train,X_test,y_train,y_test = train_test_split(df_new.vectors.values,\n",
    "                                                df_new.cat_num,\n",
    "                                                test_size = 0.2,\n",
    "                                                random_state=101,\n",
    "                                                stratify=df_new.cat_num)\n",
    "\n",
    "X_train_2D = np.stack(X_train)\n",
    "X_test_2D = np.stack(X_test)\n",
    "\n",
    "scaler = MinMaxScaler()\n",
    "X_train_scaled = scaler.fit_transform(X_train_2D)\n",
    "X_test_scaled = scaler.transform(X_test_2D)"
   ]
  },
  {
   "cell_type": "code",
   "execution_count": 14,
   "id": "12eb3af1",
   "metadata": {},
   "outputs": [
    {
     "name": "stdout",
     "output_type": "stream",
     "text": [
      "              precision    recall  f1-score   support\n",
      "\n",
      "           0       0.56      0.56      0.56       276\n",
      "           1       0.59      0.62      0.61       276\n",
      "           2       0.61      0.62      0.62       276\n",
      "           3       0.65      0.61      0.63       277\n",
      "\n",
      "    accuracy                           0.60      1105\n",
      "   macro avg       0.61      0.60      0.60      1105\n",
      "weighted avg       0.61      0.60      0.60      1105\n",
      "\n"
     ]
    }
   ],
   "source": [
    "from sklearn.tree import DecisionTreeClassifier\n",
    "from sklearn.metrics import classification_report\n",
    "\n",
    "clf = DecisionTreeClassifier()\n",
    "clf.fit(X_train_scaled,y_train)\n",
    "\n",
    "y_pred = clf.predict(X_test_scaled)\n",
    "\n",
    "print(classification_report(y_test,y_pred))\n"
   ]
  },
  {
   "cell_type": "code",
   "execution_count": 15,
   "id": "00842f70",
   "metadata": {},
   "outputs": [
    {
     "name": "stdout",
     "output_type": "stream",
     "text": [
      "              precision    recall  f1-score   support\n",
      "\n",
      "           0       0.69      0.75      0.72       276\n",
      "           1       0.73      0.70      0.72       276\n",
      "           2       0.75      0.74      0.75       276\n",
      "           3       0.83      0.81      0.82       277\n",
      "\n",
      "    accuracy                           0.75      1105\n",
      "   macro avg       0.75      0.75      0.75      1105\n",
      "weighted avg       0.75      0.75      0.75      1105\n",
      "\n"
     ]
    }
   ],
   "source": [
    "from sklearn.naive_bayes import MultinomialNB\n",
    "\n",
    "clf = MultinomialNB()\n",
    "clf.fit(X_train_scaled,y_train)\n",
    "\n",
    "y_pred = clf.predict(X_test_scaled)\n",
    "\n",
    "print(classification_report(y_test,y_pred))"
   ]
  },
  {
   "cell_type": "code",
   "execution_count": 16,
   "id": "97923414",
   "metadata": {},
   "outputs": [
    {
     "name": "stdout",
     "output_type": "stream",
     "text": [
      "              precision    recall  f1-score   support\n",
      "\n",
      "           0       0.72      0.83      0.77       276\n",
      "           1       0.80      0.72      0.76       276\n",
      "           2       0.86      0.71      0.78       276\n",
      "           3       0.75      0.84      0.79       277\n",
      "\n",
      "    accuracy                           0.78      1105\n",
      "   macro avg       0.78      0.78      0.78      1105\n",
      "weighted avg       0.78      0.78      0.78      1105\n",
      "\n"
     ]
    }
   ],
   "source": [
    "from sklearn.neighbors import KNeighborsClassifier\n",
    "\n",
    "clf = KNeighborsClassifier()\n",
    "clf.fit(X_train_scaled,y_train)\n",
    "\n",
    "y_pred = clf.predict(X_test_scaled)\n",
    "\n",
    "print(classification_report(y_test,y_pred))"
   ]
  },
  {
   "cell_type": "code",
   "execution_count": 17,
   "id": "be323f99",
   "metadata": {},
   "outputs": [
    {
     "name": "stdout",
     "output_type": "stream",
     "text": [
      "              precision    recall  f1-score   support\n",
      "\n",
      "           0       0.78      0.83      0.80       276\n",
      "           1       0.78      0.82      0.80       276\n",
      "           2       0.87      0.77      0.82       276\n",
      "           3       0.85      0.84      0.84       277\n",
      "\n",
      "    accuracy                           0.81      1105\n",
      "   macro avg       0.82      0.81      0.81      1105\n",
      "weighted avg       0.82      0.81      0.81      1105\n",
      "\n"
     ]
    }
   ],
   "source": [
    "from sklearn.ensemble import RandomForestClassifier\n",
    "\n",
    "clf = RandomForestClassifier()\n",
    "clf.fit(X_train_scaled,y_train)\n",
    "\n",
    "y_pred = clf.predict(X_test_scaled)\n",
    "\n",
    "print(classification_report(y_test,y_pred))"
   ]
  },
  {
   "cell_type": "code",
   "execution_count": 19,
   "id": "f8047798",
   "metadata": {},
   "outputs": [],
   "source": [
    "from sklearn.metrics import confusion_matrix\n",
    "\n",
    "cm = confusion_matrix(y_test,y_pred)"
   ]
  },
  {
   "cell_type": "code",
   "execution_count": 20,
   "id": "cd26b0e9",
   "metadata": {},
   "outputs": [
    {
     "data": {
      "text/plain": [
       "Text(69.0, 0.5, 'Truth')"
      ]
     },
     "execution_count": 20,
     "metadata": {},
     "output_type": "execute_result"
    },
    {
     "data": {
      "image/png": "[encoded data removed]",
      "text/plain": [
       "<Figure size 720x504 with 2 Axes>"
      ]
     },
     "metadata": {
      "needs_background": "light"
     },
     "output_type": "display_data"
    }
   ],
   "source": [
    "from matplotlib import pyplot as plt\n",
    "import seaborn as sn\n",
    "plt.figure(figsize = (10,7))\n",
    "sn.heatmap(cm,annot = True, fmt = 'd')\n",
    "plt.xlabel('Prediction')\n",
    "plt.ylabel('Truth')"
   ]
  }
 ],
 "metadata": {
  "kernelspec": {
   "display_name": "Python 3",
   "language": "python",
   "name": "python3"
  },
  "language_info": {
   "codemirror_mode": {
    "name": "ipython",
    "version": 3
   },
   "file_extension": ".py",
   "mimetype": "text/x-python",
   "name": "python",
   "nbconvert_exporter": "python",
   "pygments_lexer": "ipython3",
   "version": "3.8.8"
  }
 },
 "nbformat": 4,
 "nbformat_minor": 5
}
